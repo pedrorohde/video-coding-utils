{
 "cells": [
  {
   "cell_type": "code",
   "execution_count": 1,
   "metadata": {
    "colab": {
     "base_uri": "https://localhost:8080/"
    },
    "executionInfo": {
     "elapsed": 23757,
     "status": "ok",
     "timestamp": 1604445519038,
     "user": {
      "displayName": "Pedro Rohde",
      "photoUrl": "",
      "userId": "09516962261152503729"
     },
     "user_tz": 180
    },
    "id": "623TtmelwmBi",
    "outputId": "36541f74-9ec1-4fa0-c7a1-a7d4b29f97c1"
   },
   "outputs": [
    {
     "name": "stdout",
     "output_type": "stream",
     "text": [
      "Mounted at /content/drive\n"
     ]
    }
   ],
   "source": [
    "from google.colab import drive\n",
    "drive.mount('/content/drive')"
   ]
  },
  {
   "cell_type": "code",
   "execution_count": 4,
   "metadata": {
    "colab": {
     "base_uri": "https://localhost:8080/"
    },
    "executionInfo": {
     "elapsed": 1370,
     "status": "ok",
     "timestamp": 1604445633282,
     "user": {
      "displayName": "Pedro Rohde",
      "photoUrl": "",
      "userId": "09516962261152503729"
     },
     "user_tz": 180
    },
    "id": "p4IrS1Rqwnak",
    "outputId": "b2a6c7f7-98e5-40d4-d44f-b01e3dc3f726"
   },
   "outputs": [
    {
     "name": "stdout",
     "output_type": "stream",
     "text": [
      "AR-CNN-test.ipynb  __init__.py       utils.py          YUV_H264_YUV.sh\n",
      "\u001b[0m\u001b[01;34mcheckpoints\u001b[0m/       requirements.yml  utils_test.ipynb  yuv_test.ipynb\n"
     ]
    }
   ],
   "source": [
    "%cd drive/Shared\\ drives/ecl-pedro/video-coding-utils/"
   ]
  },
  {
   "cell_type": "code",
   "execution_count": 1,
   "metadata": {},
   "outputs": [],
   "source": [
    "from utils import *"
   ]
  },
  {
   "cell_type": "code",
   "execution_count": 2,
   "metadata": {
    "executionInfo": {
     "elapsed": 2001,
     "status": "ok",
     "timestamp": 1604445763256,
     "user": {
      "displayName": "Pedro Rohde",
      "photoUrl": "",
      "userId": "09516962261152503729"
     },
     "user_tz": 180
    },
    "id": "2XmQme_FwhJj"
   },
   "outputs": [],
   "source": [
    "import tensorflow as tf"
   ]
  },
  {
   "cell_type": "code",
   "execution_count": 3,
   "metadata": {
    "executionInfo": {
     "elapsed": 459,
     "status": "ok",
     "timestamp": 1604445763259,
     "user": {
      "displayName": "Pedro Rohde",
      "photoUrl": "",
      "userId": "09516962261152503729"
     },
     "user_tz": 180
    },
    "id": "V5C-Upz-whJo"
   },
   "outputs": [],
   "source": [
    "from tensorflow.keras import Sequential\n",
    "from tensorflow.keras.layers import *\n",
    "from tensorflow.keras.losses import MSE\n",
    "from tensorflow.keras.callbacks import ModelCheckpoint"
   ]
  },
  {
   "cell_type": "code",
   "execution_count": 4,
   "metadata": {},
   "outputs": [],
   "source": [
    "from sklearn.model_selection import train_test_split"
   ]
  },
  {
   "cell_type": "code",
   "execution_count": 5,
   "metadata": {},
   "outputs": [],
   "source": [
    "import matplotlib.pyplot as plt\n",
    "import seaborn as sns"
   ]
  },
  {
   "cell_type": "code",
   "execution_count": null,
   "metadata": {},
   "outputs": [],
   "source": []
  },
  {
   "cell_type": "markdown",
   "metadata": {
    "id": "CUl0MCxvwhJs"
   },
   "source": [
    "# get kernel sizes from original Matlab implementation of AR-CNN\n",
    "import scipy.io\n",
    "mat = scipy.io.loadmat('../../papers/AR-CNN test code/code/model/q40.mat')"
   ]
  },
  {
   "cell_type": "code",
   "execution_count": null,
   "metadata": {
    "id": "p8Gvy8HnwhJt"
   },
   "outputs": [],
   "source": []
  },
  {
   "cell_type": "markdown",
   "metadata": {
    "id": "3cAcZN1UY62B"
   },
   "source": [
    "---\n",
    "## Architecture definition\n",
    "Example architecture based on ARCNN"
   ]
  },
  {
   "cell_type": "code",
   "execution_count": 6,
   "metadata": {
    "executionInfo": {
     "elapsed": 6372,
     "status": "ok",
     "timestamp": 1604445779133,
     "user": {
      "displayName": "Pedro Rohde",
      "photoUrl": "",
      "userId": "09516962261152503729"
     },
     "user_tz": 180
    },
    "id": "DV3WJwsPwhJx"
   },
   "outputs": [],
   "source": [
    "ARCNN = Sequential([\n",
    "    Conv2D(64, 9, activation='relu', padding='same', input_shape=(64,64,1), name='conv1'), # 64 9x9 filters, ReLU activation\n",
    "    Conv2D(32, 7, activation='relu', padding='same', name='conv2'),                        # 32 7x7 filters, ReLU activation\n",
    "    Conv2D(16, 1, activation='relu', padding='same', name='conv3'),                        # 16 1x1 filters, ReLU activation\n",
    "    Conv2D(1, 5, activation=None, padding='same', name='conv4'),                           # 1  5x5 filter,    no activation\n",
    "], name='AR-CNN')\n",
    "\n",
    "# originally \"replicate\" padding"
   ]
  },
  {
   "cell_type": "code",
   "execution_count": 7,
   "metadata": {
    "colab": {
     "base_uri": "https://localhost:8080/"
    },
    "executionInfo": {
     "elapsed": 4485,
     "status": "ok",
     "timestamp": 1604445779135,
     "user": {
      "displayName": "Pedro Rohde",
      "photoUrl": "",
      "userId": "09516962261152503729"
     },
     "user_tz": 180
    },
    "id": "XxR7QQexwhJ1",
    "outputId": "2f9af8dc-f72c-4fd8-df47-f845fb97c76d"
   },
   "outputs": [
    {
     "name": "stdout",
     "output_type": "stream",
     "text": [
      "Model: \"AR-CNN\"\n",
      "_________________________________________________________________\n",
      "Layer (type)                 Output Shape              Param #   \n",
      "=================================================================\n",
      "conv1 (Conv2D)               (None, 64, 64, 64)        5248      \n",
      "_________________________________________________________________\n",
      "conv2 (Conv2D)               (None, 64, 64, 32)        100384    \n",
      "_________________________________________________________________\n",
      "conv3 (Conv2D)               (None, 64, 64, 16)        528       \n",
      "_________________________________________________________________\n",
      "conv4 (Conv2D)               (None, 64, 64, 1)         401       \n",
      "=================================================================\n",
      "Total params: 106,561\n",
      "Trainable params: 106,561\n",
      "Non-trainable params: 0\n",
      "_________________________________________________________________\n"
     ]
    }
   ],
   "source": [
    "ARCNN.summary()"
   ]
  },
  {
   "cell_type": "code",
   "execution_count": null,
   "metadata": {
    "id": "aPCir5q8whJ6"
   },
   "outputs": [],
   "source": []
  },
  {
   "cell_type": "code",
   "execution_count": null,
   "metadata": {
    "id": "EgAUdE5FY62Q"
   },
   "outputs": [],
   "source": []
  },
  {
   "cell_type": "markdown",
   "metadata": {
    "id": "btnX7GGWY62U"
   },
   "source": [
    "---\n",
    "## Creation of the dataset"
   ]
  },
  {
   "cell_type": "code",
   "execution_count": 8,
   "metadata": {
    "executionInfo": {
     "elapsed": 1276,
     "status": "ok",
     "timestamp": 1604445786891,
     "user": {
      "displayName": "Pedro Rohde",
      "photoUrl": "",
      "userId": "09516962261152503729"
     },
     "user_tz": 180
    },
    "id": "r0C7b4eUwhKC"
   },
   "outputs": [],
   "source": [
    "# x: compressed, y: ground truth\n",
    "x_path = '../data/H264_raw/BasketballPass_416x240_50_H264_42.yuv'\n",
    "y_path = '../data/YUV/BasketballPass_416x240_50.yuv'"
   ]
  },
  {
   "cell_type": "code",
   "execution_count": 9,
   "metadata": {
    "executionInfo": {
     "elapsed": 816,
     "status": "ok",
     "timestamp": 1604445787201,
     "user": {
      "displayName": "Pedro Rohde",
      "photoUrl": "",
      "userId": "09516962261152503729"
     },
     "user_tz": 180
    },
    "id": "QeUQytcF2EaZ"
   },
   "outputs": [],
   "source": [
    "height = int(y_path.split('_')[1].split('x')[1])\n",
    "width = int(y_path.split('_')[1].split('x')[0])\n",
    "size = (height, width)"
   ]
  },
  {
   "cell_type": "code",
   "execution_count": 10,
   "metadata": {
    "executionInfo": {
     "elapsed": 4978,
     "status": "ok",
     "timestamp": 1604445791949,
     "user": {
      "displayName": "Pedro Rohde",
      "photoUrl": "",
      "userId": "09516962261152503729"
     },
     "user_tz": 180
    },
    "id": "SRUMtsOtwhKF"
   },
   "outputs": [],
   "source": [
    "# select frames\n",
    "frames = range(0,256,2)\n",
    "X = read_YUV420_multiframes(x_path, size, frames, channel='Y')\n",
    "Y = read_YUV420_multiframes(y_path, size, frames, channel='Y')"
   ]
  },
  {
   "cell_type": "code",
   "execution_count": 11,
   "metadata": {
    "colab": {
     "base_uri": "https://localhost:8080/"
    },
    "executionInfo": {
     "elapsed": 4681,
     "status": "ok",
     "timestamp": 1604445791954,
     "user": {
      "displayName": "Pedro Rohde",
      "photoUrl": "",
      "userId": "09516962261152503729"
     },
     "user_tz": 180
    },
    "id": "1tt3HSw8whKJ",
    "outputId": "cb325d47-13af-4b3d-9841-75934f55700e"
   },
   "outputs": [
    {
     "data": {
      "text/plain": [
       "((128, 240, 416), (128, 240, 416))"
      ]
     },
     "execution_count": 11,
     "metadata": {},
     "output_type": "execute_result"
    }
   ],
   "source": [
    "X.shape, Y.shape"
   ]
  },
  {
   "cell_type": "code",
   "execution_count": 12,
   "metadata": {
    "executionInfo": {
     "elapsed": 4434,
     "status": "ok",
     "timestamp": 1604445791955,
     "user": {
      "displayName": "Pedro Rohde",
      "photoUrl": "",
      "userId": "09516962261152503729"
     },
     "user_tz": 180
    },
    "id": "KW1gkcKDwhKM"
   },
   "outputs": [],
   "source": [
    "# select random patches in those frames\n",
    "N_patches_per_frame = 5\n",
    "size_of_patches = (64,64)\n",
    "idxs = n_random_slices(N_patches_per_frame, range(0,len(frames)), size, size_of_patches)"
   ]
  },
  {
   "cell_type": "code",
   "execution_count": 13,
   "metadata": {
    "executionInfo": {
     "elapsed": 2783,
     "status": "ok",
     "timestamp": 1604445791956,
     "user": {
      "displayName": "Pedro Rohde",
      "photoUrl": "",
      "userId": "09516962261152503729"
     },
     "user_tz": 180
    },
    "id": "s2AEL5SgwhKQ"
   },
   "outputs": [],
   "source": [
    "X = patches_from_idxs(X, idxs)\n",
    "Y = patches_from_idxs(Y, idxs)"
   ]
  },
  {
   "cell_type": "code",
   "execution_count": 14,
   "metadata": {
    "executionInfo": {
     "elapsed": 2320,
     "status": "ok",
     "timestamp": 1604445791958,
     "user": {
      "displayName": "Pedro Rohde",
      "photoUrl": "",
      "userId": "09516962261152503729"
     },
     "user_tz": 180
    },
    "id": "rWU1MAW2whKT"
   },
   "outputs": [],
   "source": [
    "X = X.reshape(*X.shape, 1)\n",
    "Y = Y.reshape(*Y.shape, 1)"
   ]
  },
  {
   "cell_type": "code",
   "execution_count": 15,
   "metadata": {
    "colab": {
     "base_uri": "https://localhost:8080/"
    },
    "executionInfo": {
     "elapsed": 1501,
     "status": "ok",
     "timestamp": 1604445791959,
     "user": {
      "displayName": "Pedro Rohde",
      "photoUrl": "",
      "userId": "09516962261152503729"
     },
     "user_tz": 180
    },
    "id": "2tk9Bim_whKW",
    "outputId": "b861c3a1-d0ec-46cb-98c8-ea329323a9e1"
   },
   "outputs": [
    {
     "data": {
      "text/plain": [
       "((640, 64, 64, 1), (640, 64, 64, 1))"
      ]
     },
     "execution_count": 15,
     "metadata": {},
     "output_type": "execute_result"
    }
   ],
   "source": [
    "# shapes: (examples, height, width, channels)\n",
    "X.shape, Y.shape"
   ]
  },
  {
   "cell_type": "code",
   "execution_count": 16,
   "metadata": {},
   "outputs": [],
   "source": [
    "X_train, X_test, Y_train, Y_test = train_test_split(X, Y, test_size=0.1)"
   ]
  },
  {
   "cell_type": "code",
   "execution_count": 17,
   "metadata": {},
   "outputs": [
    {
     "data": {
      "text/plain": [
       "((576, 64, 64, 1), (64, 64, 64, 1), (576, 64, 64, 1), (64, 64, 64, 1))"
      ]
     },
     "execution_count": 17,
     "metadata": {},
     "output_type": "execute_result"
    }
   ],
   "source": [
    "X_train.shape, X_test.shape, Y_train.shape, Y_test.shape"
   ]
  },
  {
   "cell_type": "markdown",
   "metadata": {
    "id": "PS1BA_gJY62_"
   },
   "source": [
    "---\n",
    "## Training"
   ]
  },
  {
   "cell_type": "code",
   "execution_count": 18,
   "metadata": {
    "executionInfo": {
     "elapsed": 1440,
     "status": "ok",
     "timestamp": 1604445800815,
     "user": {
      "displayName": "Pedro Rohde",
      "photoUrl": "",
      "userId": "09516962261152503729"
     },
     "user_tz": 180
    },
    "id": "nbO1GLviwhKd"
   },
   "outputs": [],
   "source": [
    "def PSNR(x,y):\n",
    "    return tf.image.psnr(x,y,max_val=1)\n",
    "\n",
    "ARCNN.compile(\n",
    "    optimizer='SGD', # stochastic gradient descent (paper)\n",
    "    loss=MSE, # mean squared error (paper)\n",
    "    metrics=[PSNR]\n",
    ")"
   ]
  },
  {
   "cell_type": "markdown",
   "metadata": {
    "id": "D51_4gluY63E"
   },
   "source": [
    "Callback to save model weights at every epoch:"
   ]
  },
  {
   "cell_type": "code",
   "execution_count": 19,
   "metadata": {
    "executionInfo": {
     "elapsed": 789,
     "status": "ok",
     "timestamp": 1604445807773,
     "user": {
      "displayName": "Pedro Rohde",
      "photoUrl": "",
      "userId": "09516962261152503729"
     },
     "user_tz": 180
    },
    "id": "QdPCG3LVY63F"
   },
   "outputs": [],
   "source": [
    "ckpt_callback = ModelCheckpoint(\n",
    "    filepath='checkpoints/ARCNN',\n",
    "    save_weights_only=True,\n",
    "    verbose=0\n",
    ")"
   ]
  },
  {
   "cell_type": "code",
   "execution_count": 20,
   "metadata": {
    "colab": {
     "base_uri": "https://localhost:8080/"
    },
    "executionInfo": {
     "elapsed": 520535,
     "status": "ok",
     "timestamp": 1604446331753,
     "user": {
      "displayName": "Pedro Rohde",
      "photoUrl": "",
      "userId": "09516962261152503729"
     },
     "user_tz": 180
    },
    "id": "Trx9vqdhwhKg",
    "outputId": "b6144fd9-f526-49f6-d97a-7cdd8cb9267f"
   },
   "outputs": [
    {
     "name": "stdout",
     "output_type": "stream",
     "text": [
      "Epoch 1/5\n",
      "36/36 - 23s - loss: 0.0729 - PSNR: 14.1288\n",
      "Epoch 2/5\n",
      "36/36 - 26s - loss: 0.0123 - PSNR: 19.2802\n",
      "Epoch 3/5\n",
      "36/36 - 28s - loss: 0.0117 - PSNR: 19.5466\n",
      "Epoch 4/5\n",
      "36/36 - 27s - loss: 0.0111 - PSNR: 19.7714\n",
      "Epoch 5/5\n",
      "36/36 - 31s - loss: 0.0106 - PSNR: 19.9776\n"
     ]
    }
   ],
   "source": [
    "history = ARCNN.fit(\n",
    "    X_train, Y_train,\n",
    "    batch_size=16, # (paper=128)\n",
    "    epochs=5, # guess\n",
    "    callbacks=[ckpt_callback],\n",
    "    verbose=2\n",
    ")"
   ]
  },
  {
   "cell_type": "code",
   "execution_count": 21,
   "metadata": {
    "id": "KYbm803gY63P"
   },
   "outputs": [
    {
     "data": {
      "image/png": "[encoded data removed]",
      "text/plain": [
       "<Figure size 1080x360 with 2 Axes>"
      ]
     },
     "metadata": {},
     "output_type": "display_data"
    }
   ],
   "source": [
    "sns.set()\n",
    "fig,ax = plt.subplots(1,2, figsize=(15,5))\n",
    "ax[0].plot(history.history['loss'])\n",
    "ax[0].set_title('loss (MSE)')\n",
    "ax[0].set_xlabel('epoch')\n",
    "ax[0].set_xlabel('MSE')\n",
    "ax[1].plot(history.history['PSNR'])\n",
    "ax[1].set_title('PSNR')\n",
    "ax[1].set_xlabel('epoch')\n",
    "ax[1].set_ylabel('PSNR')\n",
    "plt.show()"
   ]
  },
  {
   "cell_type": "code",
   "execution_count": null,
   "metadata": {
    "id": "POjOKIfVY63U"
   },
   "outputs": [],
   "source": []
  },
  {
   "cell_type": "markdown",
   "metadata": {
    "id": "xcad-o3vY63X"
   },
   "source": [
    "---\n",
    "# Testing"
   ]
  },
  {
   "cell_type": "code",
   "execution_count": 22,
   "metadata": {
    "executionInfo": {
     "elapsed": 1083,
     "status": "ok",
     "timestamp": 1604446364942,
     "user": {
      "displayName": "Pedro Rohde",
      "photoUrl": "",
      "userId": "09516962261152503729"
     },
     "user_tz": 180
    },
    "id": "GdIG9IGXwhKn"
   },
   "outputs": [
    {
     "name": "stdout",
     "output_type": "stream",
     "text": [
      "2/2 [==============================] - 0s 85ms/step - loss: 0.0108 - PSNR: 19.8902\n"
     ]
    }
   ],
   "source": [
    "Y_pred = ARCNN.predict(X_test)\n",
    "results = ARCNN.evaluate(X_test, Y_test)"
   ]
  },
  {
   "cell_type": "code",
   "execution_count": 23,
   "metadata": {
    "colab": {
     "base_uri": "https://localhost:8080/",
     "height": 150
    },
    "executionInfo": {
     "elapsed": 1502,
     "status": "ok",
     "timestamp": 1604446366606,
     "user": {
      "displayName": "Pedro Rohde",
      "photoUrl": "",
      "userId": "09516962261152503729"
     },
     "user_tz": 180
    },
    "id": "FrS0U-Qr0Ubl",
    "outputId": "14832a07-5c8b-4b7c-c6ad-b93d944b8860"
   },
   "outputs": [
    {
     "data": {
      "image/png": "[encoded data removed]",
      "text/plain": [
       "<Figure size 1080x360 with 3 Axes>"
      ]
     },
     "metadata": {
      "needs_background": "light"
     },
     "output_type": "display_data"
    }
   ],
   "source": [
    "sns.reset_orig()\n",
    "fig,ax = plt.subplots(1,3, figsize=(15,5))\n",
    "ax[0].imshow(X_test[1,:,:,0])\n",
    "ax[0].set_title('Original compressed')\n",
    "ax[1].imshow(Y_pred[1,:,:,0])\n",
    "ax[1].set_title('Predicted')\n",
    "ax[2].imshow(Y_test[1,:,:,0])\n",
    "ax[2].set_title('Ground truth')\n",
    "plt.show()"
   ]
  },
  {
   "cell_type": "code",
   "execution_count": null,
   "metadata": {
    "id": "ugCMZOEsY632"
   },
   "outputs": [],
   "source": []
  },
  {
   "cell_type": "code",
   "execution_count": null,
   "metadata": {
    "id": "SZUezAexY635"
   },
   "outputs": [],
   "source": []
  },
  {
   "cell_type": "markdown",
   "metadata": {
    "id": "6a98yOECY638"
   },
   "source": [
    "---\n",
    "## Loading saved weights"
   ]
  },
  {
   "cell_type": "code",
   "execution_count": 24,
   "metadata": {
    "executionInfo": {
     "elapsed": 870,
     "status": "ok",
     "timestamp": 1604446380873,
     "user": {
      "displayName": "Pedro Rohde",
      "photoUrl": "",
      "userId": "09516962261152503729"
     },
     "user_tz": 180
    },
    "id": "iHq-0uSBY639"
   },
   "outputs": [],
   "source": [
    "new_ARCNN = Sequential([\n",
    "    Conv2D(64, 9, activation='relu', padding='same', input_shape=(64,64,1), name='conv1'), # 64 9x9 filters, ReLU activation\n",
    "    Conv2D(32, 7, activation='relu', padding='same', name='conv2'),                        # 32 7x7 filters, ReLU activation\n",
    "    Conv2D(16, 1, activation='relu', padding='same', name='conv3'),                        # 16 1x1 filters, ReLU activation\n",
    "    Conv2D(1, 5, activation=None, padding='same', name='conv4'),                           # 1  5x5 filter,    no activation\n",
    "], name='AR-CNN')"
   ]
  },
  {
   "cell_type": "code",
   "execution_count": 28,
   "metadata": {
    "colab": {
     "base_uri": "https://localhost:8080/"
    },
    "executionInfo": {
     "elapsed": 745,
     "status": "ok",
     "timestamp": 1604446382683,
     "user": {
      "displayName": "Pedro Rohde",
      "photoUrl": "",
      "userId": "09516962261152503729"
     },
     "user_tz": 180
    },
    "id": "v0dwyTlRY63_",
    "outputId": "9ae95219-8933-45f9-ed6c-97ebf31bd811"
   },
   "outputs": [
    {
     "name": "stdout",
     "output_type": "stream",
     "text": [
      "2/2 [==============================] - 0s 80ms/step - loss: 0.2231 - PSNR: 6.7020\n"
     ]
    },
    {
     "data": {
      "text/plain": [
       "[0.22308406233787537, 6.702037334442139]"
      ]
     },
     "execution_count": 28,
     "metadata": {},
     "output_type": "execute_result"
    }
   ],
   "source": [
    "new_ARCNN.compile(\n",
    "    optimizer='SGD', # stochastic gradient descent (paper)\n",
    "    loss=MSE, # mean squared error (paper)\n",
    "    metrics=[PSNR]\n",
    ")\n",
    "new_ARCNN.evaluate(X_test, Y_test)"
   ]
  },
  {
   "cell_type": "code",
   "execution_count": 29,
   "metadata": {
    "colab": {
     "base_uri": "https://localhost:8080/"
    },
    "executionInfo": {
     "elapsed": 701,
     "status": "ok",
     "timestamp": 1604446385018,
     "user": {
      "displayName": "Pedro Rohde",
      "photoUrl": "",
      "userId": "09516962261152503729"
     },
     "user_tz": 180
    },
    "id": "Gt3wHLDmY64E",
    "outputId": "545e2f42-3111-4ba8-cb0c-9c1fc9b70494"
   },
   "outputs": [
    {
     "name": "stdout",
     "output_type": "stream",
     "text": [
      "2/2 [==============================] - 0s 85ms/step - loss: 0.0108 - PSNR: 19.8902\n"
     ]
    },
    {
     "data": {
      "text/plain": [
       "[0.010817071422934532, 19.89020538330078]"
      ]
     },
     "execution_count": 29,
     "metadata": {},
     "output_type": "execute_result"
    }
   ],
   "source": [
    "new_ARCNN.load_weights('checkpoints/ARCNN')\n",
    "new_ARCNN.evaluate(X_test, Y_test)"
   ]
  },
  {
   "cell_type": "code",
   "execution_count": null,
   "metadata": {
    "id": "kSOZRxn2Y64J"
   },
   "outputs": [],
   "source": []
  }
 ],
 "metadata": {
  "accelerator": "GPU",
  "colab": {
   "collapsed_sections": [],
   "name": "AR-CNN-test.ipynb",
   "provenance": []
  },
  "kernelspec": {
   "display_name": "Python 3",
   "language": "python",
   "name": "python3"
  },
  "language_info": {
   "codemirror_mode": {
    "name": "ipython",
    "version": 3
   },
   "file_extension": ".py",
   "mimetype": "text/x-python",
   "name": "python",
   "nbconvert_exporter": "python",
   "pygments_lexer": "ipython3",
   "version": "3.8.5"
  }
 },
 "nbformat": 4,
 "nbformat_minor": 4
}
